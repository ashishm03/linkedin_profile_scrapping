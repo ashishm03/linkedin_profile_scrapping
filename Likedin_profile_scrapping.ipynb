{
 "cells": [
  {
   "cell_type": "code",
   "execution_count": 1,
   "metadata": {},
   "outputs": [],
   "source": [
    "import pandas as pd\n",
    "#import parsel\n",
    "from time import sleep\n",
    "from selenium import webdriver\n",
    "from selenium.webdriver.support.ui import WebDriverWait\n",
    "from selenium.webdriver.common.by import By\n",
    "from selenium.webdriver.support import expected_conditions as EC\n",
    "from selenium.webdriver.chrome.options import Options\n",
    "import selenium.webdriver.common.keys\n",
    "from bs4 import BeautifulSoup\n",
    "import requests\n",
    "import lxml \n",
    "from webdriver_manager.chrome import ChromeDriverManager"
   ]
  },
  {
   "cell_type": "code",
   "execution_count": 2,
   "metadata": {},
   "outputs": [
    {
     "name": "stderr",
     "output_type": "stream",
     "text": [
      "C:\\Users\\mishr\\AppData\\Local\\Temp\\ipykernel_13244\\3558535502.py:3: DeprecationWarning: executable_path has been deprecated, please pass in a Service object\n",
      "  driver = webdriver.Chrome(executable_path=r'C:\\\\Users\\\\Default\\\\Desktop\\\\chromedriver.exe')\n"
     ]
    }
   ],
   "source": [
    "opts=Options()\n",
    "\n",
    "driver = webdriver.Chrome(executable_path=r'C:\\\\Users\\\\Default\\\\Desktop\\\\chromedriver.exe')\n",
    "\n",
    "def validate_field(field):\n",
    "    \n",
    "    if field:\n",
    "        pass\n",
    "    else:\n",
    "        field=\"No Results\"\n",
    "    return field\n",
    "\n",
    "driver.get('https://www.linkedin.com')\n",
    "\n",
    "username=driver.find_element(By.ID,'session_key')\n",
    "\n",
    "username.send_keys('Enter your Linkedin ID/EMAIL')\n",
    "\n",
    "sleep(0.5)\n",
    "\n",
    "password=driver.find_element(By.ID,'session_password')\n",
    "\n",
    "password.send_keys('ENTER YOUR PASSWORD')\n",
    "\n",
    "sleep(0.5)\n",
    "\n",
    "sign_in_button= driver.find_element(By.XPATH,'//*[@type=\"submit\"]')\n",
    "\n",
    "sign_in_button.click()\n",
    "sleep(15)\n",
    "\n"
   ]
  },
  {
   "cell_type": "code",
   "execution_count": 51,
   "metadata": {},
   "outputs": [],
   "source": [
    "profile1={}\n",
    "profle_list=['satyanadella']\n",
    "for profile in profle_list:\n",
    "    link=f'https://www.linkedin.com/in/{profile}/'\n",
    "    driver.get(link)\n",
    "    sleep(5)\n",
    "SCROLL_PAUSE_TIME=5\n",
    "last_height=driver.execute_script(\"return document.body.scrollHeight\")\n",
    "for i in range(3):\n",
    "    driver.execute_script(\"window.scrollTo(0,document.body.scrollHeight);\")\n",
    "    sleep(SCROLL_PAUSE_TIME)\n",
    "    new_height=driver.execute_script(\"return document.body.scrollHeight\")\n",
    "    if new_height == last_height:\n",
    "        break\n",
    "    last_height=new_height"
   ]
  },
  {
   "attachments": {},
   "cell_type": "markdown",
   "metadata": {},
   "source": [
    "## PERSONAL"
   ]
  },
  {
   "cell_type": "code",
   "execution_count": 52,
   "metadata": {},
   "outputs": [],
   "source": [
    "src=driver.page_source\n",
    "soup=BeautifulSoup(src,'html.parser')\n",
    "name_div=soup.find('div',{'class':'ph5'})\n",
    "\n",
    "profile1[\"name\"]=name_div.find('h1').get_text().strip()\n",
    "#print(name)\n",
    "\n",
    "profile1[\"work\"]=name_div.find('div',{\"class\":\"text-body-medium break-words\"}).get_text().strip()\n",
    "#print(work)\n",
    "\n",
    "profile1[\"location\"]=name_div.find('span',{\"class\":\"text-body-small inline t-black--light break-words\"}).get_text().strip()\n",
    "#print(location)"
   ]
  },
  {
   "attachments": {},
   "cell_type": "markdown",
   "metadata": {},
   "source": [
    "## EXPERIENCE"
   ]
  },
  {
   "cell_type": "code",
   "execution_count": 53,
   "metadata": {},
   "outputs": [],
   "source": [
    "link_ex=f'https://www.linkedin.com/in/{profile}/details/experience/'\n",
    "driver.get(link_ex)\n",
    "sleep(5)\n",
    "src=driver.page_source\n",
    "soup=BeautifulSoup(src,'html.parser')\n",
    "exp_div=soup.find('section',{'class':\"artdeco-card ember-view pb3\"})\n",
    "text=[]\n",
    "try:\n",
    "    exp_section=exp_div.find_all(\"ul\")\n",
    "    x=exp_section[0].find_all('li',{\"class\":\"pvs-list__paged-list-item artdeco-list__item pvs-list__item--line-separated\"})\n",
    "    for i in range(len(x)):\n",
    "        try:\n",
    "            y=((x[i].find('span',{'aria-hidden':\"true\"}).get_text().strip()),\n",
    "            (x[i].find('span',{'class':\"t-14 t-normal\"}).find('span',{'aria-hidden':\"true\"}).get_text().strip()),\n",
    "            (x[i].find('span',{'class':\"t-14 t-normal t-black--light\"}).find('span',{'aria-hidden':\"true\"}).get_text().strip()))\n",
    "            text.append(y)\n",
    "        except:\n",
    "            try:\n",
    "                y=((x[i].find('span',{'aria-hidden':\"true\"}).get_text().strip()),\n",
    "            (x[i].find('span',{'class':\"t-14 t-normal\"}).find('span',{'aria-hidden':\"true\"}).get_text().strip()))\n",
    "                text.append(y)\n",
    "            except:\n",
    "                try:\n",
    "                    y=((x[i].find('span',{'aria-hidden':\"true\"}).get_text().strip()),\n",
    "                (x[i].find('span',{'class':\"t-14 t-normal t-black--light\"}).find('span',{'aria-hidden':\"true\"}).get_text().strip()))\n",
    "                    text.append(y)\n",
    "                except:\n",
    "                    y=((x[i].find('span',{'aria-hidden':\"true\"}).get_text().strip()))\n",
    "                    text.append(y)\n",
    "                                    \n",
    "except:\n",
    "    text=\"NA\"\n",
    "text\n",
    "\n",
    "profile1[\"Experience\"]=text"
   ]
  },
  {
   "attachments": {},
   "cell_type": "markdown",
   "metadata": {},
   "source": [
    "## CERTIFICATES"
   ]
  },
  {
   "cell_type": "code",
   "execution_count": 54,
   "metadata": {},
   "outputs": [],
   "source": [
    "link_cert=f'https://www.linkedin.com/in/{profile}/details/certifications/'\n",
    "driver.get(link_cert)\n",
    "sleep(5)\n",
    "src=driver.page_source\n",
    "soup=BeautifulSoup(src,'html.parser')\n",
    "cert_div=soup.find('section',{'class':\"artdeco-card ember-view pb3\"})\n",
    "text1=[]\n",
    "try:\n",
    "    cert_section=cert_div.find_all(\"ul\")\n",
    "    x1=cert_section[0].find_all('li',{\"class\":\"pvs-list__paged-list-item artdeco-list__item pvs-list__item--line-separated\"})\n",
    "    for i in range(len(x1)):\n",
    "        try:\n",
    "            y1=((x1[i].find('span',{'aria-hidden':\"true\"}).get_text().strip()),\n",
    "            (x1[i].find('span',{'class':\"t-14 t-normal\"}).find('span',{'aria-hidden':\"true\"}).get_text().strip()),\n",
    "            (x1[i].find('span',{'class':\"t-14 t-normal t-black--light\"}).find('span',{'aria-hidden':\"true\"}).get_text().strip()))\n",
    "            text1.append(y1)\n",
    "        except:\n",
    "            try:\n",
    "                y1=((x1[i].find('span',{'aria-hidden':\"true\"}).get_text().strip()),\n",
    "            (x1[i].find('span',{'class':\"t-14 t-normal\"}).find('span',{'aria-hidden':\"true\"}).get_text().strip()))\n",
    "                text1.append(y1) \n",
    "            except:\n",
    "                try:\n",
    "                    y1=((x1[i].find('span',{'aria-hidden':\"true\"}).get_text().strip()),\n",
    "                (x1[i].find('span',{'class':\"t-14 t-normal t-black--light\"}).find('span',{'aria-hidden':\"true\"}).get_text().strip()))\n",
    "                    text1.append(y1)\n",
    "                except:\n",
    "                    y1=((x1[i].find('span',{'aria-hidden':\"true\"}).get_text().strip()))\n",
    "                    text1.append(y1)\n",
    "except:\n",
    "    text1=\"NA\"\n",
    "    \n",
    "profile1[\"certificates\"]=text1"
   ]
  },
  {
   "attachments": {},
   "cell_type": "markdown",
   "metadata": {},
   "source": [
    "### SKILLS"
   ]
  },
  {
   "cell_type": "code",
   "execution_count": 55,
   "metadata": {},
   "outputs": [],
   "source": [
    "link_skills=f'https://www.linkedin.com/in/{profile}/details/skills/'\n",
    "driver.get(link_skills)\n",
    "sleep(5)\n",
    "src=driver.page_source\n",
    "soup=BeautifulSoup(src,'html.parser')\n",
    "cert_div=soup.find('section',{'class':\"artdeco-card ember-view pb3\"})\n",
    "text2=[]\n",
    "try:\n",
    "    cert_section=cert_div.find_all(\"ul\")\n",
    "    x2=cert_section[0].find_all('li',{\"class\":\"pvs-list__paged-list-item artdeco-list__item pvs-list__item--line-separated\"})\n",
    "    for i in range(len(x2)):\n",
    "        y2=((x2[i].find('span',{'aria-hidden':\"true\"}).get_text().strip()))\n",
    "        text2.append(y2)\n",
    "except:\n",
    "    text2.append(\"NA\")\n",
    "text2\n",
    "profile1[\"skills\"]=text2"
   ]
  },
  {
   "cell_type": "code",
   "execution_count": 56,
   "metadata": {},
   "outputs": [
    {
     "name": "stdout",
     "output_type": "stream",
     "text": [
      "{'name': 'Satya Nadella', 'work': 'Chairman and CEO at Microsoft', 'location': 'Redmond, Washington, United States', 'Experience': [('Chairman and CEO', 'Microsoft', 'Feb 2014 - Present · 9 yrs'), ('Chairman', 'The Business Council U.S.', '2021 - Present · 2 yrs 1 mo'), ('Member Board Of Trustees', 'University of Chicago', '2018 - Present · 5 yrs 1 mo'), ('Board Member', 'Starbucks', '2017 - Present · 6 yrs 1 mo'), ('Board Member', 'Fred Hutch', '2016 - 2022 · 6 yrs')], 'certificates': 'NA', 'skills': ['NA']}\n"
     ]
    }
   ],
   "source": [
    "print(profile1)"
   ]
  }
 ],
 "metadata": {
  "kernelspec": {
   "display_name": ".venv",
   "language": "python",
   "name": "python3"
  },
  "language_info": {
   "codemirror_mode": {
    "name": "ipython",
    "version": 3
   },
   "file_extension": ".py",
   "mimetype": "text/x-python",
   "name": "python",
   "nbconvert_exporter": "python",
   "pygments_lexer": "ipython3",
   "version": "3.10.9"
  },
  "orig_nbformat": 4,
  "vscode": {
   "interpreter": {
    "hash": "8f5f7004f9e962e483ca50b605de1a53bb30f9618ed1ee014729fb087ae2c426"
   }
  }
 },
 "nbformat": 4,
 "nbformat_minor": 2
}
