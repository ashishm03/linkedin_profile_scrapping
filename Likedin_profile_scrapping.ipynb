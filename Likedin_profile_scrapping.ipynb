{
 "cells": [
  {
   "cell_type": "code",
   "execution_count": 2,
   "metadata": {},
   "outputs": [],
   "source": [
    "import pandas as pd\n",
    "import parsel\n",
    "from time import sleep\n",
    "from selenium import webdriver\n",
    "from selenium.webdriver.support.ui import WebDriverWait\n",
    "from selenium.webdriver.common.by import By\n",
    "from selenium.webdriver.support import expected_conditions as EC\n",
    "from selenium.webdriver.chrome.options import Options\n",
    "import selenium.webdriver.common.keys\n",
    "from bs4 import BeautifulSoup\n",
    "import requests\n",
    "import lxml \n",
    "from webdriver_manager.chrome import ChromeDriverManager"
   ]
  },
  {
   "cell_type": "code",
   "execution_count": 3,
   "metadata": {},
   "outputs": [
    {
     "name": "stderr",
     "output_type": "stream",
     "text": [
      "C:\\Users\\mishr\\AppData\\Local\\Temp\\ipykernel_16972\\3558535502.py:3: DeprecationWarning: executable_path has been deprecated, please pass in a Service object\n",
      "  driver = webdriver.Chrome(executable_path=r'C:\\\\Users\\\\Default\\\\Desktop\\\\chromedriver.exe')\n"
     ]
    }
   ],
   "source": [
    "opts=Options()\n",
    "\n",
    "driver = webdriver.Chrome(executable_path=r'C:\\\\Users\\\\Default\\\\Desktop\\\\chromedriver.exe')\n",
    "\n",
    "def validate_field(field):\n",
    "    \n",
    "    if field:\n",
    "        pass\n",
    "    else:\n",
    "        field=\"No Results\"\n",
    "    return field\n",
    "\n",
    "driver.get('https://www.linkedin.com')\n",
    "\n",
    "username=driver.find_element(By.ID,'session_key')\n",
    "\n",
    "username.send_keys('Enter your Email')\n",
    "\n",
    "sleep(0.5)\n",
    "\n",
    "password=driver.find_element(By.ID,'session_password')\n",
    "\n",
    "password.send_keys('Enter your Password')\n",
    "\n",
    "sleep(0.5)\n",
    "\n",
    "sign_in_button= driver.find_element(By.XPATH,'//*[@type=\"submit\"]')\n",
    "\n",
    "sign_in_button.click()\n",
    "sleep(15)\n",
    "\n"
   ]
  },
  {
   "cell_type": "code",
   "execution_count": 23,
   "metadata": {},
   "outputs": [],
   "source": [
    "profile1={}\n",
    "profle_list=['singhashutosh05']\n",
    "for profile in profle_list:\n",
    "    link=f'https://www.linkedin.com/in/{profile}/'\n",
    "    driver.get(link)\n",
    "    sleep(5)\n",
    "SCROLL_PAUSE_TIME=5\n",
    "last_height=driver.execute_script(\"return document.body.scrollHeight\")\n",
    "for i in range(3):\n",
    "    driver.execute_script(\"window.scrollTo(0,document.body.scrollHeight);\")\n",
    "    sleep(SCROLL_PAUSE_TIME)\n",
    "    new_height=driver.execute_script(\"return document.body.scrollHeight\")\n",
    "    if new_height == last_height:\n",
    "        break\n",
    "    last_height=new_height"
   ]
  },
  {
   "attachments": {},
   "cell_type": "markdown",
   "metadata": {},
   "source": [
    "## PERSONAL"
   ]
  },
  {
   "cell_type": "code",
   "execution_count": 24,
   "metadata": {},
   "outputs": [],
   "source": [
    "src=driver.page_source\n",
    "soup=BeautifulSoup(src,'html.parser')\n",
    "name_div=soup.find('div',{'class':'ph5'})\n",
    "\n",
    "profile1[\"name\"]=name_div.find('h1').get_text().strip()\n",
    "#print(name)\n",
    "\n",
    "profile1[\"work\"]=name_div.find('div',{\"class\":\"text-body-medium break-words\"}).get_text().strip()\n",
    "#print(work)\n",
    "\n",
    "profile1[\"location\"]=name_div.find('span',{\"class\":\"text-body-small inline t-black--light break-words\"}).get_text().strip()\n",
    "#print(location)"
   ]
  },
  {
   "attachments": {},
   "cell_type": "markdown",
   "metadata": {},
   "source": [
    "## EXPERIENCE"
   ]
  },
  {
   "cell_type": "code",
   "execution_count": 25,
   "metadata": {},
   "outputs": [],
   "source": [
    "link_ex=f'https://www.linkedin.com/in/{profile}/details/experience/'\n",
    "driver.get(link_ex)\n",
    "sleep(5)\n",
    "src=driver.page_source\n",
    "soup=BeautifulSoup(src,'html.parser')\n",
    "exp_div=soup.find('section',{'class':\"artdeco-card ember-view pb3\"})\n",
    "text=[]\n",
    "try:\n",
    "    exp_section=exp_div.find_all(\"ul\")\n",
    "    x=exp_section[0].find_all('li',{\"class\":\"pvs-list__paged-list-item artdeco-list__item pvs-list__item--line-separated\"})\n",
    "    for i in range(len(x)):\n",
    "        y=((x[i].find('span',{'aria-hidden':\"true\"}).get_text().strip()),\n",
    "        (x[i].find('span',{'class':\"t-14 t-normal\"}).find('span',{'aria-hidden':\"true\"}).get_text().strip()),\n",
    "        (x[i].find('span',{'class':\"t-14 t-normal t-black--light\"}).find('span',{'aria-hidden':\"true\"}).get_text().strip()))\n",
    "        text.append(y)\n",
    "except:\n",
    "    text.append(\"NA\")\n",
    "text\n",
    "\n",
    "profile1[\"Experience\"]=text"
   ]
  },
  {
   "attachments": {},
   "cell_type": "markdown",
   "metadata": {},
   "source": [
    "## CERTIFICATES"
   ]
  },
  {
   "cell_type": "code",
   "execution_count": 26,
   "metadata": {},
   "outputs": [],
   "source": [
    "link_cert=f'https://www.linkedin.com/in/{profile}/details/certifications/'\n",
    "driver.get(link_cert)\n",
    "sleep(5)\n",
    "src=driver.page_source\n",
    "soup=BeautifulSoup(src,'html.parser')\n",
    "cert_div=soup.find('section',{'class':\"artdeco-card ember-view pb3\"})\n",
    "text1=[]\n",
    "cert_section=cert_div.find_all(\"ul\")\n",
    "x1=cert_section[0].find_all('li',{\"class\":\"pvs-list__paged-list-item artdeco-list__item pvs-list__item--line-separated\"})\n",
    "for i in range(len(x1)):\n",
    "    y1=((x1[i].find('span',{'aria-hidden':\"true\"}).get_text().strip()),\n",
    "    (x1[i].find('span',{'class':\"t-14 t-normal\"}).find('span',{'aria-hidden':\"true\"}).get_text().strip()),\n",
    "    (x1[i].find('span',{'class':\"t-14 t-normal t-black--light\"}).find('span',{'aria-hidden':\"true\"}).get_text().strip()))\n",
    "    text1.append(y1)\n",
    "text1\n",
    "profile1[\"certificates\"]=text1"
   ]
  },
  {
   "attachments": {},
   "cell_type": "markdown",
   "metadata": {},
   "source": [
    "### SKILLS"
   ]
  },
  {
   "cell_type": "code",
   "execution_count": 27,
   "metadata": {},
   "outputs": [],
   "source": [
    "link_skills=f'https://www.linkedin.com/in/singhashutosh05/details/skills/'\n",
    "driver.get(link_skills)\n",
    "sleep(5)\n",
    "src=driver.page_source\n",
    "soup=BeautifulSoup(src,'html.parser')\n",
    "cert_div=soup.find('section',{'class':\"artdeco-card ember-view pb3\"})\n",
    "text2=[]\n",
    "try:\n",
    "    cert_section=cert_div.find_all(\"ul\")\n",
    "    x2=cert_section[0].find_all('li',{\"class\":\"pvs-list__paged-list-item artdeco-list__item pvs-list__item--line-separated\"})\n",
    "    for i in range(len(x2)):\n",
    "        y2=((x2[i].find('span',{'aria-hidden':\"true\"}).get_text().strip()))\n",
    "        text2.append(y2)\n",
    "except:\n",
    "    text2.append(\"NA\")\n",
    "text2\n",
    "profile1[\"skills\"]=text2"
   ]
  },
  {
   "cell_type": "code",
   "execution_count": 28,
   "metadata": {},
   "outputs": [
    {
     "name": "stdout",
     "output_type": "stream",
     "text": [
      "{'name': 'Ashutosh Singh', 'work': 'Associate Product Manager @Source one | Teardown Expert | Ex-Stayug | Figma | Agile', 'location': 'Pune, Maharashtra, India', 'Experience': [('Source.one', 'Full-time · 4 mos', 'Pune, Maharashtra, India'), ('Freelance Product Manager', 'Upwork · Freelance', 'Sep 2022 - Jan 2023 · 5 mos'), ('Product Manager', 'Stayug · Full-time', 'Jul 2020 - Jul 2021 · 1 yr 1 mo')], 'certificates': [('10 Mentorship Sessions', 'adplist.org', 'Issued Aug 2022 · No Expiration Date'), ('100 Mentorship Minutes', 'adplist.org', 'Issued Aug 2022 · No Expiration Date'), ('Certification in Flutter and dart', 'Udemy', 'Issued Jan 2022 · No Expiration Date'), ('Certification in Advanced C++ programming', 'Udemy', 'Issued Sep 2021 · No Expiration Date')], 'skills': ['Product Management', 'Product Development', 'Problem Solving', 'Agile Methodologies', 'Critical Thinking', 'Analytical Skills', 'User Experience (UX)', 'Microsoft PowerPoint', 'Microsoft Office', 'Management', 'Microsoft Excel', 'Communication', 'Time Management', 'Negotiation', 'Leadership', 'Video Editing', 'Analytics', 'Jira', 'Figma', 'C++']}\n"
     ]
    }
   ],
   "source": [
    "print(profile1)"
   ]
  }
 ],
 "metadata": {
  "kernelspec": {
   "display_name": ".venv",
   "language": "python",
   "name": "python3"
  },
  "language_info": {
   "codemirror_mode": {
    "name": "ipython",
    "version": 3
   },
   "file_extension": ".py",
   "mimetype": "text/x-python",
   "name": "python",
   "nbconvert_exporter": "python",
   "pygments_lexer": "ipython3",
   "version": "3.10.9 (tags/v3.10.9:1dd9be6, Dec  6 2022, 20:01:21) [MSC v.1934 64 bit (AMD64)]"
  },
  "orig_nbformat": 4,
  "vscode": {
   "interpreter": {
    "hash": "cd5845e586f2b47b7afbbc754dc99aeac821cd92daef112d32a718a7ee9209c1"
   }
  }
 },
 "nbformat": 4,
 "nbformat_minor": 2
}
